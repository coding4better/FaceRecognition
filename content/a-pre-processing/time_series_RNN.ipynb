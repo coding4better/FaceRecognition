{
  "cells": [
    {
      "cell_type": "markdown",
      "metadata": {
        "id": "view-in-github",
        "colab_type": "text"
      },
      "source": [
        "<a href=\"https://colab.research.google.com/github/coding4better/FaceRecognition/blob/main/content/a-pre-processing/time_series_RNN.ipynb\" target=\"_parent\"><img src=\"https://colab.research.google.com/assets/colab-badge.svg\" alt=\"Open In Colab\"/></a>"
      ]
    },
    {
      "cell_type": "code",
      "source": [
        "from google.colab import drive\n",
        "drive.mount('/content/drive')"
      ],
      "metadata": {
        "id": "d8Tf1wLxEsYo",
        "outputId": "f4f06473-e1b1-4b6e-b23f-19aba7a5a0d5",
        "colab": {
          "base_uri": "https://localhost:8080/"
        }
      },
      "execution_count": 2,
      "outputs": [
        {
          "output_type": "stream",
          "name": "stdout",
          "text": [
            "Mounted at /content/drive\n"
          ]
        }
      ]
    },
    {
      "cell_type": "code",
      "execution_count": 11,
      "metadata": {
        "id": "0JuIbBMcES0K"
      },
      "outputs": [],
      "source": [
        "import torch\n",
        "from torch.utils.data import Dataset, DataLoader\n",
        "import pandas as pd\n",
        "import numpy as np\n",
        "from torch.utils.data import random_split\n",
        "import torch.nn as nn\n",
        "import json\n",
        "import tqdm"
      ]
    },
    {
      "cell_type": "code",
      "execution_count": 12,
      "metadata": {
        "id": "ptpuUgo2ES0Q"
      },
      "outputs": [],
      "source": [
        "import ast  # 导入 ast 模块\n",
        "\n",
        "class AudioDataset(Dataset):\n",
        "    def __init__(self, csv_path):\n",
        "        self.data = pd.read_csv(csv_path)\n",
        "\n",
        "    def __len__(self):\n",
        "        return len(self.data)\n",
        "\n",
        "    def __getitem__(self, idx):\n",
        "        row = self.data.iloc[idx]\n",
        "        # 使用 ast.literal_eval 安全地解析字符串\n",
        "        left_sequence = np.array(ast.literal_eval(row[\"Left_Sequence\"]))  # 将字符串转换为数组\n",
        "        right_sequence = np.array(ast.literal_eval(row[\"Right_Sequence\"]))\n",
        "        label_left = row[\"Polyp Left Length Ratio\"]\n",
        "        label_right = row[\"Polyp Right Length Ratio\"]\n",
        "\n",
        "        # 转换为 PyTorch 张量\n",
        "        left_sequence = torch.FloatTensor(left_sequence).unsqueeze(-1)  # 增加通道维度\n",
        "        right_sequence = torch.FloatTensor(right_sequence).unsqueeze(-1)\n",
        "        label_left = torch.FloatTensor([label_left])\n",
        "        label_right = torch.FloatTensor([label_right])\n",
        "\n",
        "        return left_sequence, right_sequence, label_left, label_right\n",
        "# # 定义自定义数据集类\n",
        "# class AudioDataset(Dataset):\n",
        "#     def __init__(self, csv_file):\n",
        "#         self.data = pd.read_csv(csv_file)\n",
        "\n",
        "#     def __len__(self):\n",
        "#         return len(self.data)\n",
        "\n",
        "#     def __getitem__(self, idx):\n",
        "#         row = self.data.iloc[idx]\n",
        "#         left_sequence = np.array(json.loads(row[\"Left_Sequence\"]))  # 将字符串转换为数组\n",
        "#         right_sequence = np.array(json.loads(row[\"Right_Sequence\"]))\n",
        "#         label_left = torch.FloatTensor([row[\"Polyp Left Length Ratio\"]])\n",
        "#         label_right = torch.FloatTensor([row[\"Polyp Right Length Ratio\"]])\n",
        "\n",
        "#         # 转换为 PyTorch 张量，并确保形状为 (sequence_length, input_size)\n",
        "#         left_sequence = torch.FloatTensor(left_sequence).unsqueeze(-1)\n",
        "#         right_sequence = torch.FloatTensor(right_sequence).unsqueeze(-1)\n",
        "\n",
        "#         return left_sequence, right_sequence, label_left, label_right\n",
        "\n"
      ]
    },
    {
      "cell_type": "code",
      "execution_count": 13,
      "metadata": {
        "id": "MfpiWuSpES0Y"
      },
      "outputs": [],
      "source": [
        "# 加载数据集\n",
        "dataset = AudioDataset(r\"/content/drive/MyDrive/matched_audio_sequences.csv\")\n",
        "\n",
        "# 划分数据集\n",
        "train_size = int(0.8 * len(dataset))\n",
        "val_size = len(dataset) - train_size\n",
        "train_set, val_set = random_split(dataset, [train_size, val_size])\n",
        "\n",
        "# 创建 DataLoader\n",
        "train_dataloader = DataLoader(train_set, batch_size=32, shuffle=True)\n",
        "val_dataloader = DataLoader(val_set, batch_size=32)\n"
      ]
    },
    {
      "cell_type": "code",
      "execution_count": 14,
      "metadata": {
        "id": "2xX0SF2jES0Z",
        "outputId": "c956e3cc-aab4-4a15-8979-ea8815fa1b41",
        "colab": {
          "base_uri": "https://localhost:8080/"
        }
      },
      "outputs": [
        {
          "output_type": "execute_result",
          "data": {
            "text/plain": [
              "(tensor([[0.0558],\n",
              "         [0.1275],\n",
              "         [0.1614],\n",
              "         ...,\n",
              "         [0.0000],\n",
              "         [0.0000],\n",
              "         [0.0000]]),\n",
              " tensor([[-0.3283],\n",
              "         [-0.5332],\n",
              "         [-0.4442],\n",
              "         ...,\n",
              "         [ 0.0000],\n",
              "         [ 0.0000],\n",
              "         [ 0.0000]]),\n",
              " tensor([0.]),\n",
              " tensor([0.2731]))"
            ]
          },
          "metadata": {},
          "execution_count": 14
        }
      ],
      "source": [
        "train_dataloader.dataset[0]"
      ]
    },
    {
      "cell_type": "code",
      "execution_count": null,
      "metadata": {
        "id": "sGixfpZtES0b"
      },
      "outputs": [],
      "source": [
        "class DualTaskRNN(nn.Module):\n",
        "    def __init__(self, input_size, hidden_size, num_layers, output_size):\n",
        "        super(DualTaskRNN, self).__init__()\n",
        "        self.hidden_size = hidden_size\n",
        "        self.num_layers = num_layers\n",
        "\n",
        "        # RNN 层\n",
        "        self.rnn_left = nn.RNN(input_size, hidden_size, num_layers, batch_first=True)\n",
        "        self.rnn_right = nn.RNN(input_size, hidden_size, num_layers, batch_first=True)\n",
        "\n",
        "        # 回归任务的全连接层\n",
        "        self.fc_left = nn.Linear(hidden_size, output_size)\n",
        "        self.fc_right = nn.Linear(hidden_size, output_size)\n",
        "\n",
        "        # 预留分类任务的接口\n",
        "        self.fc_classifier = nn.Linear(hidden_size * 2, 1)  # 假设分类任务是二分类\n",
        "\n",
        "    def forward(self, x_left, x_right):\n",
        "        # 处理左声道\n",
        "        h0_left = torch.zeros(self.num_layers, x_left.size(0), self.hidden_size).to(x_left.device)\n",
        "        out_left, _ = self.rnn_left(x_left, h0_left)\n",
        "        out_left = self.fc_left(out_left[:, -1, :])  # 取最后一个时间步的输出\n",
        "\n",
        "        # 处理右声道\n",
        "        h0_right = torch.zeros(self.num_layers, x_right.size(0), self.hidden_size).to(x_right.device)\n",
        "        out_right, _ = self.rnn_right(x_right, h0_right)\n",
        "        out_right = self.fc_right(out_right[:, -1, :])  # 取最后一个时间步的输出\n",
        "\n",
        "        # 预留分类任务的接口\n",
        "        combined_features = torch.cat((out_left, out_right), dim=1)\n",
        "        classification_output = torch.sigmoid(self.fc_classifier(combined_features))\n",
        "\n",
        "        return out_left, out_right, classification_output\n"
      ]
    },
    {
      "cell_type": "code",
      "execution_count": null,
      "metadata": {
        "id": "SvYH2CLaES0h"
      },
      "outputs": [],
      "source": [
        "model = DualTaskRNN(input_size=1, hidden_size=64, num_layers=2, output_size=1)\n",
        "criterion = nn.MSELoss()  # 回归任务使用均方误差损失\n",
        "optimizer = torch.optim.Adam(model.parameters(), lr=0.001)\n",
        "device = torch.device(\"cuda\" if torch.cuda.is_available() else \"cpu\")\n",
        "\n",
        "# 训练循环\n",
        "num_epochs = 10"
      ]
    },
    {
      "cell_type": "code",
      "execution_count": 15,
      "metadata": {
        "id": "gv4nUtssES0i"
      },
      "outputs": [],
      "source": [
        "# 定义模型\n",
        "class ChannelNet(nn.Module):\n",
        "    def __init__(self, input_dim=1, hidden_size=64, num_layers=2):\n",
        "        super(ChannelNet, self).__init__()\n",
        "        self.hidden_size = hidden_size\n",
        "        self.num_layers = num_layers\n",
        "        self.rnn_left = nn.LSTM(input_dim, hidden_size, num_layers, batch_first=True, bidirectional=True)\n",
        "        self.rnn_right = nn.LSTM(input_dim, hidden_size, num_layers, batch_first=True, bidirectional=True)\n",
        "        self.fc_left = nn.Linear(hidden_size * 2, 1)\n",
        "        self.fc_right = nn.Linear(hidden_size * 2, 1)\n",
        "\n",
        "    def forward(self, x_left, x_right):\n",
        "        # 处理左声道\n",
        "        h0_left = torch.zeros(self.num_layers * 2, x_left.size(0), self.hidden_size).to(x_left.device)\n",
        "        c0_left = torch.zeros(self.num_layers * 2, x_left.size(0), self.hidden_size).to(x_left.device)\n",
        "        out_left, _ = self.rnn_left(x_left, (h0_left, c0_left))\n",
        "        out_left = self.fc_left(out_left[:, -1, :])  # 取最后一个时间步的输出\n",
        "\n",
        "        # 处理右声道\n",
        "        h0_right = torch.zeros(self.num_layers * 2, x_right.size(0), self.hidden_size).to(x_right.device)\n",
        "        c0_right = torch.zeros(self.num_layers * 2, x_right.size(0), self.hidden_size).to(x_right.device)\n",
        "        out_right, _ = self.rnn_right(x_right, (h0_right, c0_right))\n",
        "        out_right = self.fc_right(out_right[:, -1, :])  # 取最后一个时间步的输出\n",
        "\n",
        "        return out_left, out_right\n"
      ]
    },
    {
      "cell_type": "code",
      "execution_count": 16,
      "metadata": {
        "id": "vIv2wdEzES0j"
      },
      "outputs": [],
      "source": [
        "# 定义评估函数\n",
        "def evaluate(model, dataloader):\n",
        "    model.eval()\n",
        "    val_loss_left = 0\n",
        "    val_loss_right = 0\n",
        "    with torch.no_grad():\n",
        "        for left_sequence, right_sequence, label_left, label_right in dataloader:\n",
        "            left_sequence = left_sequence.to(device)\n",
        "            right_sequence = right_sequence.to(device)\n",
        "            label_left = label_left.to(device)\n",
        "            label_right = label_right.to(device)\n",
        "\n",
        "            pred_left, pred_right = model(left_sequence, right_sequence)\n",
        "            val_loss_left += criterion(pred_left, label_left).item()\n",
        "            val_loss_right += criterion(pred_right, label_right).item()\n",
        "\n",
        "    val_loss_left /= len(dataloader)\n",
        "    val_loss_right /= len(dataloader)\n",
        "    return val_loss_left, val_loss_right"
      ]
    },
    {
      "cell_type": "code",
      "execution_count": 17,
      "metadata": {
        "id": "2Bys-8WUES0p"
      },
      "outputs": [],
      "source": [
        "# 初始化模型、损失函数和优化器\n",
        "device = torch.device(\"cuda\" if torch.cuda.is_available() else \"cpu\")\n",
        "model = ChannelNet(input_dim=1).to(device)\n",
        "criterion = nn.MSELoss()\n",
        "optimizer = torch.optim.Adam(model.parameters(), lr=1e-3)"
      ]
    },
    {
      "cell_type": "code",
      "execution_count": 18,
      "metadata": {
        "id": "nDiK9d92ES0r",
        "outputId": "9de78841-4397-43cd-ea08-76d0a7f14dcb",
        "colab": {
          "base_uri": "https://localhost:8080/",
          "height": 425
        }
      },
      "outputs": [
        {
          "output_type": "stream",
          "name": "stderr",
          "text": [
            "Epoch 1/10:   0%|          | 0/23 [00:19<?, ?it/s]\n"
          ]
        },
        {
          "output_type": "error",
          "ename": "OutOfMemoryError",
          "evalue": "CUDA out of memory. Tried to allocate 8.39 GiB. GPU 0 has a total capacity of 14.74 GiB of which 2.33 GiB is free. Process 2913 has 12.41 GiB memory in use. Of the allocated memory 12.28 GiB is allocated by PyTorch, and 11.25 MiB is reserved by PyTorch but unallocated. If reserved but unallocated memory is large try setting PYTORCH_CUDA_ALLOC_CONF=expandable_segments:True to avoid fragmentation.  See documentation for Memory Management  (https://pytorch.org/docs/stable/notes/cuda.html#environment-variables)",
          "traceback": [
            "\u001b[0;31m---------------------------------------------------------------------------\u001b[0m",
            "\u001b[0;31mOutOfMemoryError\u001b[0m                          Traceback (most recent call last)",
            "\u001b[0;32m<ipython-input-18-5af4b40ec575>\u001b[0m in \u001b[0;36m<cell line: 0>\u001b[0;34m()\u001b[0m\n\u001b[1;32m     16\u001b[0m \u001b[0;34m\u001b[0m\u001b[0m\n\u001b[1;32m     17\u001b[0m         \u001b[0;31m# 前向传播\u001b[0m\u001b[0;34m\u001b[0m\u001b[0;34m\u001b[0m\u001b[0m\n\u001b[0;32m---> 18\u001b[0;31m         \u001b[0mpred_left\u001b[0m\u001b[0;34m,\u001b[0m \u001b[0mpred_right\u001b[0m \u001b[0;34m=\u001b[0m \u001b[0mmodel\u001b[0m\u001b[0;34m(\u001b[0m\u001b[0mleft_sequence\u001b[0m\u001b[0;34m,\u001b[0m \u001b[0mright_sequence\u001b[0m\u001b[0;34m)\u001b[0m\u001b[0;34m\u001b[0m\u001b[0;34m\u001b[0m\u001b[0m\n\u001b[0m\u001b[1;32m     19\u001b[0m \u001b[0;34m\u001b[0m\u001b[0m\n\u001b[1;32m     20\u001b[0m         \u001b[0;31m# 计算损失\u001b[0m\u001b[0;34m\u001b[0m\u001b[0;34m\u001b[0m\u001b[0m\n",
            "\u001b[0;32m/usr/local/lib/python3.11/dist-packages/torch/nn/modules/module.py\u001b[0m in \u001b[0;36m_wrapped_call_impl\u001b[0;34m(self, *args, **kwargs)\u001b[0m\n\u001b[1;32m   1737\u001b[0m             \u001b[0;32mreturn\u001b[0m \u001b[0mself\u001b[0m\u001b[0;34m.\u001b[0m\u001b[0m_compiled_call_impl\u001b[0m\u001b[0;34m(\u001b[0m\u001b[0;34m*\u001b[0m\u001b[0margs\u001b[0m\u001b[0;34m,\u001b[0m \u001b[0;34m**\u001b[0m\u001b[0mkwargs\u001b[0m\u001b[0;34m)\u001b[0m  \u001b[0;31m# type: ignore[misc]\u001b[0m\u001b[0;34m\u001b[0m\u001b[0;34m\u001b[0m\u001b[0m\n\u001b[1;32m   1738\u001b[0m         \u001b[0;32melse\u001b[0m\u001b[0;34m:\u001b[0m\u001b[0;34m\u001b[0m\u001b[0;34m\u001b[0m\u001b[0m\n\u001b[0;32m-> 1739\u001b[0;31m             \u001b[0;32mreturn\u001b[0m \u001b[0mself\u001b[0m\u001b[0;34m.\u001b[0m\u001b[0m_call_impl\u001b[0m\u001b[0;34m(\u001b[0m\u001b[0;34m*\u001b[0m\u001b[0margs\u001b[0m\u001b[0;34m,\u001b[0m \u001b[0;34m**\u001b[0m\u001b[0mkwargs\u001b[0m\u001b[0;34m)\u001b[0m\u001b[0;34m\u001b[0m\u001b[0;34m\u001b[0m\u001b[0m\n\u001b[0m\u001b[1;32m   1740\u001b[0m \u001b[0;34m\u001b[0m\u001b[0m\n\u001b[1;32m   1741\u001b[0m     \u001b[0;31m# torchrec tests the code consistency with the following code\u001b[0m\u001b[0;34m\u001b[0m\u001b[0;34m\u001b[0m\u001b[0m\n",
            "\u001b[0;32m/usr/local/lib/python3.11/dist-packages/torch/nn/modules/module.py\u001b[0m in \u001b[0;36m_call_impl\u001b[0;34m(self, *args, **kwargs)\u001b[0m\n\u001b[1;32m   1748\u001b[0m                 \u001b[0;32mor\u001b[0m \u001b[0m_global_backward_pre_hooks\u001b[0m \u001b[0;32mor\u001b[0m \u001b[0m_global_backward_hooks\u001b[0m\u001b[0;34m\u001b[0m\u001b[0;34m\u001b[0m\u001b[0m\n\u001b[1;32m   1749\u001b[0m                 or _global_forward_hooks or _global_forward_pre_hooks):\n\u001b[0;32m-> 1750\u001b[0;31m             \u001b[0;32mreturn\u001b[0m \u001b[0mforward_call\u001b[0m\u001b[0;34m(\u001b[0m\u001b[0;34m*\u001b[0m\u001b[0margs\u001b[0m\u001b[0;34m,\u001b[0m \u001b[0;34m**\u001b[0m\u001b[0mkwargs\u001b[0m\u001b[0;34m)\u001b[0m\u001b[0;34m\u001b[0m\u001b[0;34m\u001b[0m\u001b[0m\n\u001b[0m\u001b[1;32m   1751\u001b[0m \u001b[0;34m\u001b[0m\u001b[0m\n\u001b[1;32m   1752\u001b[0m         \u001b[0mresult\u001b[0m \u001b[0;34m=\u001b[0m \u001b[0;32mNone\u001b[0m\u001b[0;34m\u001b[0m\u001b[0;34m\u001b[0m\u001b[0m\n",
            "\u001b[0;32m<ipython-input-15-93b04a3ae36e>\u001b[0m in \u001b[0;36mforward\u001b[0;34m(self, x_left, x_right)\u001b[0m\n\u001b[1;32m     14\u001b[0m         \u001b[0mh0_left\u001b[0m \u001b[0;34m=\u001b[0m \u001b[0mtorch\u001b[0m\u001b[0;34m.\u001b[0m\u001b[0mzeros\u001b[0m\u001b[0;34m(\u001b[0m\u001b[0mself\u001b[0m\u001b[0;34m.\u001b[0m\u001b[0mnum_layers\u001b[0m \u001b[0;34m*\u001b[0m \u001b[0;36m2\u001b[0m\u001b[0;34m,\u001b[0m \u001b[0mx_left\u001b[0m\u001b[0;34m.\u001b[0m\u001b[0msize\u001b[0m\u001b[0;34m(\u001b[0m\u001b[0;36m0\u001b[0m\u001b[0;34m)\u001b[0m\u001b[0;34m,\u001b[0m \u001b[0mself\u001b[0m\u001b[0;34m.\u001b[0m\u001b[0mhidden_size\u001b[0m\u001b[0;34m)\u001b[0m\u001b[0;34m.\u001b[0m\u001b[0mto\u001b[0m\u001b[0;34m(\u001b[0m\u001b[0mx_left\u001b[0m\u001b[0;34m.\u001b[0m\u001b[0mdevice\u001b[0m\u001b[0;34m)\u001b[0m\u001b[0;34m\u001b[0m\u001b[0;34m\u001b[0m\u001b[0m\n\u001b[1;32m     15\u001b[0m         \u001b[0mc0_left\u001b[0m \u001b[0;34m=\u001b[0m \u001b[0mtorch\u001b[0m\u001b[0;34m.\u001b[0m\u001b[0mzeros\u001b[0m\u001b[0;34m(\u001b[0m\u001b[0mself\u001b[0m\u001b[0;34m.\u001b[0m\u001b[0mnum_layers\u001b[0m \u001b[0;34m*\u001b[0m \u001b[0;36m2\u001b[0m\u001b[0;34m,\u001b[0m \u001b[0mx_left\u001b[0m\u001b[0;34m.\u001b[0m\u001b[0msize\u001b[0m\u001b[0;34m(\u001b[0m\u001b[0;36m0\u001b[0m\u001b[0;34m)\u001b[0m\u001b[0;34m,\u001b[0m \u001b[0mself\u001b[0m\u001b[0;34m.\u001b[0m\u001b[0mhidden_size\u001b[0m\u001b[0;34m)\u001b[0m\u001b[0;34m.\u001b[0m\u001b[0mto\u001b[0m\u001b[0;34m(\u001b[0m\u001b[0mx_left\u001b[0m\u001b[0;34m.\u001b[0m\u001b[0mdevice\u001b[0m\u001b[0;34m)\u001b[0m\u001b[0;34m\u001b[0m\u001b[0;34m\u001b[0m\u001b[0m\n\u001b[0;32m---> 16\u001b[0;31m         \u001b[0mout_left\u001b[0m\u001b[0;34m,\u001b[0m \u001b[0m_\u001b[0m \u001b[0;34m=\u001b[0m \u001b[0mself\u001b[0m\u001b[0;34m.\u001b[0m\u001b[0mrnn_left\u001b[0m\u001b[0;34m(\u001b[0m\u001b[0mx_left\u001b[0m\u001b[0;34m,\u001b[0m \u001b[0;34m(\u001b[0m\u001b[0mh0_left\u001b[0m\u001b[0;34m,\u001b[0m \u001b[0mc0_left\u001b[0m\u001b[0;34m)\u001b[0m\u001b[0;34m)\u001b[0m\u001b[0;34m\u001b[0m\u001b[0;34m\u001b[0m\u001b[0m\n\u001b[0m\u001b[1;32m     17\u001b[0m         \u001b[0mout_left\u001b[0m \u001b[0;34m=\u001b[0m \u001b[0mself\u001b[0m\u001b[0;34m.\u001b[0m\u001b[0mfc_left\u001b[0m\u001b[0;34m(\u001b[0m\u001b[0mout_left\u001b[0m\u001b[0;34m[\u001b[0m\u001b[0;34m:\u001b[0m\u001b[0;34m,\u001b[0m \u001b[0;34m-\u001b[0m\u001b[0;36m1\u001b[0m\u001b[0;34m,\u001b[0m \u001b[0;34m:\u001b[0m\u001b[0;34m]\u001b[0m\u001b[0;34m)\u001b[0m  \u001b[0;31m# 取最后一个时间步的输出\u001b[0m\u001b[0;34m\u001b[0m\u001b[0;34m\u001b[0m\u001b[0m\n\u001b[1;32m     18\u001b[0m \u001b[0;34m\u001b[0m\u001b[0m\n",
            "\u001b[0;32m/usr/local/lib/python3.11/dist-packages/torch/nn/modules/module.py\u001b[0m in \u001b[0;36m_wrapped_call_impl\u001b[0;34m(self, *args, **kwargs)\u001b[0m\n\u001b[1;32m   1737\u001b[0m             \u001b[0;32mreturn\u001b[0m \u001b[0mself\u001b[0m\u001b[0;34m.\u001b[0m\u001b[0m_compiled_call_impl\u001b[0m\u001b[0;34m(\u001b[0m\u001b[0;34m*\u001b[0m\u001b[0margs\u001b[0m\u001b[0;34m,\u001b[0m \u001b[0;34m**\u001b[0m\u001b[0mkwargs\u001b[0m\u001b[0;34m)\u001b[0m  \u001b[0;31m# type: ignore[misc]\u001b[0m\u001b[0;34m\u001b[0m\u001b[0;34m\u001b[0m\u001b[0m\n\u001b[1;32m   1738\u001b[0m         \u001b[0;32melse\u001b[0m\u001b[0;34m:\u001b[0m\u001b[0;34m\u001b[0m\u001b[0;34m\u001b[0m\u001b[0m\n\u001b[0;32m-> 1739\u001b[0;31m             \u001b[0;32mreturn\u001b[0m \u001b[0mself\u001b[0m\u001b[0;34m.\u001b[0m\u001b[0m_call_impl\u001b[0m\u001b[0;34m(\u001b[0m\u001b[0;34m*\u001b[0m\u001b[0margs\u001b[0m\u001b[0;34m,\u001b[0m \u001b[0;34m**\u001b[0m\u001b[0mkwargs\u001b[0m\u001b[0;34m)\u001b[0m\u001b[0;34m\u001b[0m\u001b[0;34m\u001b[0m\u001b[0m\n\u001b[0m\u001b[1;32m   1740\u001b[0m \u001b[0;34m\u001b[0m\u001b[0m\n\u001b[1;32m   1741\u001b[0m     \u001b[0;31m# torchrec tests the code consistency with the following code\u001b[0m\u001b[0;34m\u001b[0m\u001b[0;34m\u001b[0m\u001b[0m\n",
            "\u001b[0;32m/usr/local/lib/python3.11/dist-packages/torch/nn/modules/module.py\u001b[0m in \u001b[0;36m_call_impl\u001b[0;34m(self, *args, **kwargs)\u001b[0m\n\u001b[1;32m   1748\u001b[0m                 \u001b[0;32mor\u001b[0m \u001b[0m_global_backward_pre_hooks\u001b[0m \u001b[0;32mor\u001b[0m \u001b[0m_global_backward_hooks\u001b[0m\u001b[0;34m\u001b[0m\u001b[0;34m\u001b[0m\u001b[0m\n\u001b[1;32m   1749\u001b[0m                 or _global_forward_hooks or _global_forward_pre_hooks):\n\u001b[0;32m-> 1750\u001b[0;31m             \u001b[0;32mreturn\u001b[0m \u001b[0mforward_call\u001b[0m\u001b[0;34m(\u001b[0m\u001b[0;34m*\u001b[0m\u001b[0margs\u001b[0m\u001b[0;34m,\u001b[0m \u001b[0;34m**\u001b[0m\u001b[0mkwargs\u001b[0m\u001b[0;34m)\u001b[0m\u001b[0;34m\u001b[0m\u001b[0;34m\u001b[0m\u001b[0m\n\u001b[0m\u001b[1;32m   1751\u001b[0m \u001b[0;34m\u001b[0m\u001b[0m\n\u001b[1;32m   1752\u001b[0m         \u001b[0mresult\u001b[0m \u001b[0;34m=\u001b[0m \u001b[0;32mNone\u001b[0m\u001b[0;34m\u001b[0m\u001b[0;34m\u001b[0m\u001b[0m\n",
            "\u001b[0;32m/usr/local/lib/python3.11/dist-packages/torch/nn/modules/rnn.py\u001b[0m in \u001b[0;36mforward\u001b[0;34m(self, input, hx)\u001b[0m\n\u001b[1;32m   1122\u001b[0m \u001b[0;34m\u001b[0m\u001b[0m\n\u001b[1;32m   1123\u001b[0m         \u001b[0;32mif\u001b[0m \u001b[0mbatch_sizes\u001b[0m \u001b[0;32mis\u001b[0m \u001b[0;32mNone\u001b[0m\u001b[0;34m:\u001b[0m\u001b[0;34m\u001b[0m\u001b[0;34m\u001b[0m\u001b[0m\n\u001b[0;32m-> 1124\u001b[0;31m             result = _VF.lstm(\n\u001b[0m\u001b[1;32m   1125\u001b[0m                 \u001b[0minput\u001b[0m\u001b[0;34m,\u001b[0m\u001b[0;34m\u001b[0m\u001b[0;34m\u001b[0m\u001b[0m\n\u001b[1;32m   1126\u001b[0m                 \u001b[0mhx\u001b[0m\u001b[0;34m,\u001b[0m\u001b[0;34m\u001b[0m\u001b[0;34m\u001b[0m\u001b[0m\n",
            "\u001b[0;31mOutOfMemoryError\u001b[0m: CUDA out of memory. Tried to allocate 8.39 GiB. GPU 0 has a total capacity of 14.74 GiB of which 2.33 GiB is free. Process 2913 has 12.41 GiB memory in use. Of the allocated memory 12.28 GiB is allocated by PyTorch, and 11.25 MiB is reserved by PyTorch but unallocated. If reserved but unallocated memory is large try setting PYTORCH_CUDA_ALLOC_CONF=expandable_segments:True to avoid fragmentation.  See documentation for Memory Management  (https://pytorch.org/docs/stable/notes/cuda.html#environment-variables)"
          ]
        }
      ],
      "source": [
        "# 初始化记录变量\n",
        "train_losses = []\n",
        "val_losses_left, val_losses_right = [], []\n",
        "\n",
        "# 训练循环\n",
        "num_epochs = 10\n",
        "for epoch in range(num_epochs):\n",
        "    model.train()\n",
        "    epoch_train_loss = 0\n",
        "\n",
        "    for left_sequence, right_sequence, label_left, label_right in tqdm.tqdm(train_dataloader, desc=f\"Epoch {epoch+1}/{num_epochs}\"):\n",
        "        left_sequence = left_sequence.to(device)\n",
        "        right_sequence = right_sequence.to(device)\n",
        "        label_left = label_left.to(device)\n",
        "        label_right = label_right.to(device)\n",
        "\n",
        "        # 前向传播\n",
        "        pred_left, pred_right = model(left_sequence, right_sequence)\n",
        "\n",
        "        # 计算损失\n",
        "        loss_left = criterion(pred_left, label_left)\n",
        "        loss_right = criterion(pred_right, label_right)\n",
        "        total_loss = loss_left + loss_right\n",
        "\n",
        "        # 反向传播和优化\n",
        "        optimizer.zero_grad()\n",
        "        total_loss.backward()\n",
        "        optimizer.step()\n",
        "\n",
        "        epoch_train_loss += total_loss.item()\n",
        "\n",
        "    # 记录训练损失\n",
        "    train_losses.append(epoch_train_loss / len(train_dataloader))\n",
        "\n",
        "    # 验证集评估\n",
        "    val_loss_left, val_loss_right = evaluate(model, val_dataloader)\n",
        "    val_losses_left.append(val_loss_left)\n",
        "    val_losses_right.append(val_loss_right)\n",
        "\n",
        "    print(f\"Epoch [{epoch+1}/{num_epochs}], Train Loss: {train_losses[-1]:.4f}, \"\n",
        "          f\"Val Loss (Left): {val_loss_left:.4f}, Val Loss (Right): {val_loss_right:.4f}\")\n"
      ]
    },
    {
      "cell_type": "code",
      "execution_count": null,
      "metadata": {
        "id": "49M3eV48ES0s",
        "outputId": "1d9ad3bb-f08c-49b8-e809-5536f56fc893"
      },
      "outputs": [
        {
          "data": {
            "image/png": "[encoded data removed]",
            "text/plain": [
              "<Figure size 1200x400 with 3 Axes>"
            ]
          },
          "metadata": {},
          "output_type": "display_data"
        }
      ],
      "source": [
        "# 绘制训练过程中的损失曲线\n",
        "from matplotlib import pyplot as plt\n",
        "def plot_training_metrics(train_losses, val_losses_left, val_losses_right):\n",
        "    plt.figure(figsize=(12, 4))\n",
        "\n",
        "    # 绘制训练损失\n",
        "    plt.subplot(1, 3, 1)\n",
        "    plt.plot(train_losses, label=\"Train Loss\")\n",
        "    plt.xlabel(\"Epoch\")\n",
        "    plt.ylabel(\"Loss\")\n",
        "    plt.title(\"Training Loss\")\n",
        "    plt.legend()\n",
        "\n",
        "    # 绘制验证集左声道损失\n",
        "    plt.subplot(1, 3, 2)\n",
        "    plt.plot(val_losses_left, label=\"Val Loss (Left)\")\n",
        "    plt.xlabel(\"Epoch\")\n",
        "    plt.ylabel(\"Loss\")\n",
        "    plt.title(\"Validation Loss (Left Channel)\")\n",
        "    plt.legend()\n",
        "\n",
        "    # 绘制验证集右声道损失\n",
        "    plt.subplot(1, 3, 3)\n",
        "    plt.plot(val_losses_right, label=\"Val Loss (Right)\")\n",
        "    plt.xlabel(\"Epoch\")\n",
        "    plt.ylabel(\"Loss\")\n",
        "    plt.title(\"Validation Loss (Right Channel)\")\n",
        "    plt.legend()\n",
        "\n",
        "    plt.tight_layout()\n",
        "    plt.show()\n",
        "\n",
        "plot_training_metrics(train_losses, val_losses_left, val_losses_right)"
      ]
    },
    {
      "cell_type": "code",
      "execution_count": null,
      "metadata": {
        "id": "Ah8cwgmXES0y"
      },
      "outputs": [],
      "source": []
    }
  ],
  "metadata": {
    "kernelspec": {
      "display_name": "Python 3",
      "name": "python3"
    },
    "language_info": {
      "codemirror_mode": {
        "name": "ipython",
        "version": 3
      },
      "file_extension": ".py",
      "mimetype": "text/x-python",
      "name": "python",
      "nbconvert_exporter": "python",
      "pygments_lexer": "ipython3",
      "version": "3.8.20"
    },
    "colab": {
      "provenance": [],
      "gpuType": "T4",
      "include_colab_link": true
    },
    "accelerator": "GPU"
  },
  "nbformat": 4,
  "nbformat_minor": 0
}